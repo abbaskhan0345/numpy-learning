{
 "cells": [
  {
   "cell_type": "markdown",
   "id": "cd5daacd",
   "metadata": {},
   "source": [
    "\n",
    "# NumPy Array Creation\n",
    "\n",
    "In this notebook, we will cover:\n",
    "- Creating NumPy Arrays\n",
    "- From Python Lists & Tuples\n",
    "- Using Built-in NumPy Functions\n",
    "- Arrays Filled with Zeros/Ones\n",
    "- Identity & Diagonal Matrices\n",
    "- Using `arange()` and `linspace()`\n",
    "- Random Number Arrays\n",
    "- Understanding Data Types (`dtype`)\n",
    "\n",
    "---\n"
   ]
  },
  {
   "cell_type": "markdown",
   "id": "21bef526",
   "metadata": {},
   "source": [
    "\n",
    "## Creating Arrays\n",
    "\n",
    "NumPy arrays can be created in multiple ways:\n",
    "1. From Python sequences (lists, tuples)\n",
    "2. Using special NumPy functions\n",
    "3. Using random number generators\n",
    "\n",
    "---\n"
   ]
  },
  {
   "cell_type": "markdown",
   "id": "ad456943",
   "metadata": {},
   "source": [
    "\n",
    "## 1. Creating Arrays from Python Lists and Tuples\n",
    "\n",
    "We can create arrays directly from existing Python data structures.\n"
   ]
  },
  {
   "cell_type": "code",
   "execution_count": 3,
   "id": "1992e9ec",
   "metadata": {},
   "outputs": [
    {
     "name": "stdout",
     "output_type": "stream",
     "text": [
      "Array from list: [1 2 3 4 5]\n",
      "Array from tuple: [10 20 30]\n",
      "2D array:\n",
      " [[1 2 3]\n",
      " [4 5 6]]\n"
     ]
    }
   ],
   "source": [
    "import numpy as np\n",
    "\n",
    "# From list\n",
    "arr1 = np.array([1, 2, 3, 4, 5])\n",
    "print(\"Array from list:\", arr1)\n",
    "\n",
    "# From tuple\n",
    "arr2 = np.array((10, 20, 30))\n",
    "print(\"Array from tuple:\", arr2)\n",
    "\n",
    "# 2D array (list of lists)\n",
    "arr3 = np.array([[1, 2, 3], [4, 5, 6]])\n",
    "print(\"2D array:\\n\", arr3)\n"
   ]
  },
  {
   "cell_type": "markdown",
   "id": "0976b403",
   "metadata": {},
   "source": [
    "🔹 **Note**: Unlike Python lists, NumPy arrays store **elements of the same type** for efficiency.\n",
    "\n",
    "---\n"
   ]
  },
  {
   "cell_type": "markdown",
   "id": "de7c05b5",
   "metadata": {},
   "source": [
    "\n",
    "## 2. Arrays Filled with Zeros and Ones\n",
    "\n",
    "Sometimes, we need arrays filled with default values.\n"
   ]
  },
  {
   "cell_type": "code",
   "execution_count": 4,
   "id": "4c04293b",
   "metadata": {},
   "outputs": [
    {
     "name": "stdout",
     "output_type": "stream",
     "text": [
      "Zeros array:\n",
      " [[0. 0. 0. 0.]\n",
      " [0. 0. 0. 0.]\n",
      " [0. 0. 0. 0.]]\n",
      "Ones array:\n",
      " [[1. 1. 1. 1. 1.]\n",
      " [1. 1. 1. 1. 1.]]\n"
     ]
    }
   ],
   "source": [
    "# Array of zeros\n",
    "zeros = np.zeros((3, 4))\n",
    "print(\"Zeros array:\\n\", zeros)\n",
    "\n",
    "# Array of ones\n",
    "ones = np.ones((2, 5))\n",
    "print(\"Ones array:\\n\", ones)"
   ]
  },
  {
   "cell_type": "markdown",
   "id": "3f5bf382",
   "metadata": {},
   "source": [
    "🔹 Useful for initializing weights in Machine Learning or creating placeholders.\n",
    "\n",
    "---\n"
   ]
  },
  {
   "cell_type": "markdown",
   "id": "c2bec952",
   "metadata": {},
   "source": [
    "\n",
    "## 3. Identity and Diagonal Matrices\n",
    "\n",
    "Identity matrices are important in **linear algebra**.\n"
   ]
  },
  {
   "cell_type": "code",
   "execution_count": 5,
   "id": "d16ab1d1",
   "metadata": {},
   "outputs": [
    {
     "name": "stdout",
     "output_type": "stream",
     "text": [
      "Identity matrix:\n",
      " [[1. 0. 0. 0.]\n",
      " [0. 1. 0. 0.]\n",
      " [0. 0. 1. 0.]\n",
      " [0. 0. 0. 1.]]\n",
      "Diagonal matrix:\n",
      " [[1 0 0 0]\n",
      " [0 2 0 0]\n",
      " [0 0 3 0]\n",
      " [0 0 0 4]]\n"
     ]
    }
   ],
   "source": [
    "# Identity matrix (square)\n",
    "I = np.eye(4)\n",
    "print(\"Identity matrix:\\n\", I)\n",
    "\n",
    "# Diagonal matrix\n",
    "D = np.diag([1, 2, 3, 4])\n",
    "print(\"Diagonal matrix:\\n\", D)\n"
   ]
  },
  {
   "cell_type": "markdown",
   "id": "36f51a7c",
   "metadata": {},
   "source": [
    "\n",
    "\n",
    "---\n"
   ]
  },
  {
   "cell_type": "markdown",
   "id": "fc1b7427",
   "metadata": {},
   "source": [
    "\n",
    "## 4. Using `arange()`\n",
    "\n",
    "`np.arange(start, stop, step)` works like Python’s `range()` but returns an array.\n"
   ]
  },
  {
   "cell_type": "code",
   "execution_count": 6,
   "id": "ed459c2e",
   "metadata": {},
   "outputs": [
    {
     "name": "stdout",
     "output_type": "stream",
     "text": [
      "Arange array: [0 2 4 6 8]\n"
     ]
    }
   ],
   "source": [
    "arr = np.arange(0, 10, 2)\n",
    "print(\"Arange array:\", arr)\n"
   ]
  },
  {
   "cell_type": "markdown",
   "id": "ccae6ff1",
   "metadata": {},
   "source": [
    "\n",
    "---\n",
    "\n",
    "## 5. Using `linspace()`\n",
    "\n",
    "`np.linspace(start, stop, num)` creates evenly spaced numbers between a range.\n"
   ]
  },
  {
   "cell_type": "code",
   "execution_count": 7,
   "id": "5cd733fa",
   "metadata": {},
   "outputs": [
    {
     "name": "stdout",
     "output_type": "stream",
     "text": [
      "Linspace array: [0.   0.25 0.5  0.75 1.  ]\n"
     ]
    }
   ],
   "source": [
    "arr = np.linspace(0, 1, 5)\n",
    "print(\"Linspace array:\", arr)"
   ]
  },
  {
   "cell_type": "markdown",
   "id": "54459052",
   "metadata": {},
   "source": [
    "🔹 Good for **graphing and simulations**, where precise intervals are needed.\n",
    "\n",
    "---\n"
   ]
  },
  {
   "cell_type": "markdown",
   "id": "9511da86",
   "metadata": {},
   "source": [
    "## 6. Random Number Arrays\n",
    "\n",
    "NumPy provides random number generators.\n"
   ]
  },
  {
   "cell_type": "code",
   "execution_count": 8,
   "id": "de43b6db",
   "metadata": {},
   "outputs": [
    {
     "name": "stdout",
     "output_type": "stream",
     "text": [
      "Random array:\n",
      " [[0.91706564 0.87748068 0.12115631]\n",
      " [0.62111389 0.26607922 0.42234711]\n",
      " [0.16600834 0.67783561 0.79634375]]\n",
      "Random integers:\n",
      " [[93 52 33 15]\n",
      " [30 83 57 34]\n",
      " [18 10 50 99]\n",
      " [59 49 98 63]]\n",
      "Normal distribution: [ 0.22155911  0.01202439  1.48350826  0.1157073  -0.23774364]\n"
     ]
    }
   ],
   "source": [
    "# Random floats between 0 and 1\n",
    "rand_arr = np.random.rand(3, 3)\n",
    "print(\"Random array:\\n\", rand_arr)\n",
    "\n",
    "# Random integers\n",
    "rand_int = np.random.randint(1, 100, (4, 4))\n",
    "print(\"Random integers:\\n\", rand_int)\n",
    "\n",
    "# Normal distribution (mean=0, std=1)\n",
    "normal_arr = np.random.randn(5)\n",
    "print(\"Normal distribution:\", normal_arr)\n"
   ]
  },
  {
   "cell_type": "markdown",
   "id": "25a8c183",
   "metadata": {},
   "source": [
    "\n",
    "---\n"
   ]
  },
  {
   "cell_type": "markdown",
   "id": "bca0a2e1",
   "metadata": {},
   "source": [
    "## 7. Specifying Data Type (`dtype`)\n",
    "\n",
    "We can control the **data type** of arrays.\n"
   ]
  },
  {
   "cell_type": "code",
   "execution_count": 9,
   "id": "89451557",
   "metadata": {},
   "outputs": [
    {
     "name": "stdout",
     "output_type": "stream",
     "text": [
      "Integer array: [1 2 3] | dtype: int32\n",
      "Float array: [1. 2. 3.] | dtype: float64\n"
     ]
    }
   ],
   "source": [
    "# Integer array\n",
    "arr_int = np.array([1, 2, 3], dtype=np.int32)\n",
    "print(\"Integer array:\", arr_int, \"| dtype:\", arr_int.dtype)\n",
    "\n",
    "# Float array\n",
    "arr_float = np.array([1, 2, 3], dtype=np.float64)\n",
    "print(\"Float array:\", arr_float, \"| dtype:\", arr_float.dtype)\n"
   ]
  },
  {
   "cell_type": "markdown",
   "id": "476f7c48",
   "metadata": {},
   "source": [
    "🔹 Choosing correct `dtype` is important for **performance** and **memory optimization**.\n",
    "\n",
    "---\n"
   ]
  },
  {
   "cell_type": "markdown",
   "id": "cc9370fa",
   "metadata": {},
   "source": [
    "\n",
    "## Summary\n",
    "\n",
    "* Arrays can be created from lists/tuples or with NumPy functions.\n",
    "* Special arrays: `zeros`, `ones`, `eye`, `diag`.\n",
    "* Ranges: `arange()` and `linspace()`.\n",
    "* Random arrays: `rand()`, `randint()`, `randn()`.\n",
    "* Data type (`dtype`) control improves efficiency.\n",
    "\n",
    "➡️ Next: We will explore **Array Attributes and Indexing** in NumPy.\n",
    "\n",
    "\n",
    "---\n"
   ]
  }
 ],
 "metadata": {
  "kernelspec": {
   "display_name": "Python 3",
   "language": "python",
   "name": "python3"
  },
  "language_info": {
   "codemirror_mode": {
    "name": "ipython",
    "version": 3
   },
   "file_extension": ".py",
   "mimetype": "text/x-python",
   "name": "python",
   "nbconvert_exporter": "python",
   "pygments_lexer": "ipython3",
   "version": "3.10.11"
  }
 },
 "nbformat": 4,
 "nbformat_minor": 5
}
