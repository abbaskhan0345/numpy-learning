{
 "cells": [
  {
   "cell_type": "markdown",
   "id": "7fc052de",
   "metadata": {},
   "source": [
    "# Array Attributes and Indexing in NumPy \n",
    "**03-array-attributes-and-indexing.ipynb**\n",
    "\n",
    "In this notebook, we will cover:\n",
    "\n",
    "* Array Attributes\n",
    "* Dimensions and Shape\n",
    "* Data Types\n",
    "* Size and Memory Usage\n",
    "* Indexing and Slicing\n",
    "* Negative Indexing\n",
    "* Multi-dimensional Indexing\n",
    "* Fancy Indexing\n",
    "* Boolean Indexing\n",
    "* Practical Examples\n",
    "* Exercises\n",
    "\n",
    "---\n"
   ]
  },
  {
   "cell_type": "markdown",
   "id": "338b1ca3",
   "metadata": {},
   "source": [
    "\n",
    "## Array Attributes\n",
    "\n",
    "Every NumPy array has important attributes that give information about its structure.\n"
   ]
  },
  {
   "cell_type": "code",
   "execution_count": 1,
   "id": "e9690ab3",
   "metadata": {},
   "outputs": [
    {
     "name": "stdout",
     "output_type": "stream",
     "text": [
      "Array:\n",
      " [[1 2 3]\n",
      " [4 5 6]]\n",
      "Shape: (2, 3)\n",
      "Dimensions: 2\n",
      "Size: 6\n",
      "Data Type: int64\n",
      "Item Size: 8 bytes\n",
      "Total Memory: 48 bytes\n"
     ]
    }
   ],
   "source": [
    "import numpy as np\n",
    "\n",
    "# Create a sample array\n",
    "arr = np.array([[1, 2, 3], [4, 5, 6]])\n",
    "\n",
    "print(\"Array:\\n\", arr)\n",
    "print(\"Shape:\", arr.shape)     # rows x columns\n",
    "print(\"Dimensions:\", arr.ndim) # number of dimensions\n",
    "print(\"Size:\", arr.size)       # total number of elements\n",
    "print(\"Data Type:\", arr.dtype) # data type of elements\n",
    "print(\"Item Size:\", arr.itemsize, \"bytes\")  # size of each element\n",
    "print(\"Total Memory:\", arr.nbytes, \"bytes\") # total memory\n"
   ]
  },
  {
   "cell_type": "markdown",
   "id": "e7fc5651",
   "metadata": {},
   "source": [
    "\n",
    "---\n"
   ]
  },
  {
   "cell_type": "markdown",
   "id": "e6defc58",
   "metadata": {},
   "source": [
    "\n",
    "## Dimensions and Shape\n",
    "\n",
    "* **ndim** → Number of dimensions (axes) of the array.\n",
    "* **shape** → Tuple representing size of each dimension.\n"
   ]
  },
  {
   "cell_type": "code",
   "execution_count": 2,
   "id": "df052665",
   "metadata": {},
   "outputs": [
    {
     "name": "stdout",
     "output_type": "stream",
     "text": [
      "1D Shape: (4,)\n",
      "1D Dimensions: 1\n",
      "2D Shape: (2, 3)\n",
      "2D Dimensions: 2\n",
      "3D Shape: (2, 2, 2)\n",
      "3D Dimensions: 3\n"
     ]
    }
   ],
   "source": [
    "# 1D Array\n",
    "arr1 = np.array([1, 2, 3, 4])\n",
    "print(\"1D Shape:\", arr1.shape)\n",
    "print(\"1D Dimensions:\", arr1.ndim)\n",
    "\n",
    "# 2D Array\n",
    "arr2 = np.array([[1, 2, 3], [4, 5, 6]])\n",
    "print(\"2D Shape:\", arr2.shape)\n",
    "print(\"2D Dimensions:\", arr2.ndim)\n",
    "\n",
    "# 3D Array\n",
    "arr3 = np.array([[[1,2],[3,4]], [[5,6],[7,8]]])\n",
    "print(\"3D Shape:\", arr3.shape)\n",
    "print(\"3D Dimensions:\", arr3.ndim)\n"
   ]
  },
  {
   "cell_type": "markdown",
   "id": "d202490f",
   "metadata": {},
   "source": [
    "\n",
    "---\n"
   ]
  },
  {
   "cell_type": "markdown",
   "id": "b86836e4",
   "metadata": {},
   "source": [
    "\n",
    "## Indexing and Slicing\n",
    "\n",
    "NumPy arrays support similar indexing/slicing as Python lists, but extended for multiple dimensions.\n"
   ]
  },
  {
   "cell_type": "code",
   "execution_count": 3,
   "id": "a7bc3ecf",
   "metadata": {},
   "outputs": [
    {
     "name": "stdout",
     "output_type": "stream",
     "text": [
      "10\n",
      "50\n",
      "[20 30 40]\n",
      "[10 20 30]\n",
      "[30 40 50]\n"
     ]
    }
   ],
   "source": [
    "arr = np.array([10, 20, 30, 40, 50])\n",
    "\n",
    "# Accessing elements\n",
    "print(arr[0])   # First element\n",
    "print(arr[-1])  # Last element\n",
    "\n",
    "# Slicing\n",
    "print(arr[1:4])  # Elements from index 1 to 3\n",
    "print(arr[:3])   # First three elements\n",
    "print(arr[2:])   # From index 2 to end\n"
   ]
  },
  {
   "cell_type": "markdown",
   "id": "636282e7",
   "metadata": {},
   "source": [
    "\n",
    "---\n"
   ]
  },
  {
   "cell_type": "markdown",
   "id": "77b7ee63",
   "metadata": {},
   "source": [
    "\n",
    "## Negative Indexing\n",
    "\n",
    "Just like Python lists, you can use negative indices to count from the end.\n"
   ]
  },
  {
   "cell_type": "code",
   "execution_count": 4,
   "id": "10c9abd0",
   "metadata": {},
   "outputs": [
    {
     "name": "stdout",
     "output_type": "stream",
     "text": [
      "Last element: 500\n",
      "Second last element: 400\n",
      "Slice last 3 elements: [300 400 500]\n"
     ]
    }
   ],
   "source": [
    "arr = np.array([100, 200, 300, 400, 500])\n",
    "\n",
    "print(\"Last element:\", arr[-1])\n",
    "print(\"Second last element:\", arr[-2])\n",
    "print(\"Slice last 3 elements:\", arr[-3:])\n"
   ]
  },
  {
   "cell_type": "markdown",
   "id": "e9dcb7c1",
   "metadata": {},
   "source": [
    "\n",
    "---\n"
   ]
  },
  {
   "cell_type": "markdown",
   "id": "54a31e15",
   "metadata": {},
   "source": [
    "## Multi-dimensional Indexing\n",
    "\n",
    "You can access elements in **2D** or higher-dimensional arrays using row/column indices.\n"
   ]
  },
  {
   "cell_type": "code",
   "execution_count": 5,
   "id": "2422bca6",
   "metadata": {},
   "outputs": [
    {
     "name": "stdout",
     "output_type": "stream",
     "text": [
      "1\n",
      "6\n",
      "[2 5]\n",
      "[1 2 3]\n"
     ]
    }
   ],
   "source": [
    "arr2d = np.array([[1, 2, 3], [4, 5, 6]])\n",
    "\n",
    "print(arr2d[0, 0])  # First row, first column\n",
    "print(arr2d[1, 2])  # Second row, third column\n",
    "\n",
    "# Slicing in 2D\n",
    "print(arr2d[:, 1])   # All rows, second column\n",
    "print(arr2d[0, :])   # First row, all columns\n"
   ]
  },
  {
   "cell_type": "markdown",
   "id": "dd7f1917",
   "metadata": {},
   "source": [
    "\n",
    "---\n"
   ]
  },
  {
   "cell_type": "markdown",
   "id": "6b410d15",
   "metadata": {},
   "source": [
    "## Fancy Indexing\n",
    "\n",
    "Fancy indexing allows selecting elements using arrays/lists of indices.\n"
   ]
  },
  {
   "cell_type": "code",
   "execution_count": 6,
   "id": "9c654571",
   "metadata": {},
   "outputs": [
    {
     "name": "stdout",
     "output_type": "stream",
     "text": [
      "Selected elements: [10 30 50]\n",
      "Row selection: [[10 20]\n",
      " [50 60]]\n"
     ]
    }
   ],
   "source": [
    "arr = np.array([10, 20, 30, 40, 50])\n",
    "\n",
    "indices = [0, 2, 4]\n",
    "print(\"Selected elements:\", arr[indices])\n",
    "\n",
    "arr2d = np.array([[10, 20], [30, 40], [50, 60]])\n",
    "print(\"Row selection:\", arr2d[[0, 2]])   # Select rows 0 and 2\n"
   ]
  },
  {
   "cell_type": "markdown",
   "id": "fcfd0b17",
   "metadata": {},
   "source": [
    "\n",
    "---\n"
   ]
  },
  {
   "cell_type": "markdown",
   "id": "f4ad0eee",
   "metadata": {},
   "source": [
    "## Boolean Indexing\n",
    "\n",
    "You can filter elements using boolean conditions."
   ]
  },
  {
   "cell_type": "code",
   "execution_count": 7,
   "id": "7ddf5f37",
   "metadata": {},
   "outputs": [
    {
     "name": "stdout",
     "output_type": "stream",
     "text": [
      "[False False  True  True  True]\n",
      "Elements > 12: [15 20 25]\n",
      "Even numbers: [10 20]\n"
     ]
    }
   ],
   "source": [
    "arr = np.array([5, 10, 15, 20, 25])\n",
    "\n",
    "# Condition\n",
    "print(arr > 12)\n",
    "\n",
    "# Filtering\n",
    "print(\"Elements > 12:\", arr[arr > 12])\n",
    "\n",
    "# Even numbers only\n",
    "print(\"Even numbers:\", arr[arr % 2 == 0])\n"
   ]
  },
  {
   "cell_type": "markdown",
   "id": "c16e3801",
   "metadata": {},
   "source": [
    "\n",
    "---"
   ]
  },
  {
   "cell_type": "markdown",
   "id": "dbd8c7ac",
   "metadata": {},
   "source": [
    "\n",
    "## Practical Example\n"
   ]
  },
  {
   "cell_type": "code",
   "execution_count": 8,
   "id": "64b97de6",
   "metadata": {},
   "outputs": [
    {
     "name": "stdout",
     "output_type": "stream",
     "text": [
      "Numbers > 20: [22 30 41 55]\n",
      "Even Numbers: [12 22 30  2]\n",
      "Pick 1st, 4th, 7th element: [12 22 41]\n"
     ]
    }
   ],
   "source": [
    "\n",
    "data = np.array([12, 7, 5, 22, 19, 30, 41, 55, 2])\n",
    "\n",
    "# Find elements greater than 20\n",
    "print(\"Numbers > 20:\", data[data > 20])\n",
    "\n",
    "# Get even numbers only\n",
    "print(\"Even Numbers:\", data[data % 2 == 0])\n",
    "\n",
    "# Select specific indices\n",
    "print(\"Pick 1st, 4th, 7th element:\", data[[0, 3, 6]])\n"
   ]
  },
  {
   "cell_type": "markdown",
   "id": "8c23d657",
   "metadata": {},
   "source": [
    "\n",
    "---\n",
    "\n",
    "## Summary\n",
    "\n",
    "In this notebook, we learned:\n",
    "\n",
    "- **Attributes of NumPy arrays**:\n",
    "  - `.ndim` → number of dimensions  \n",
    "  - `.shape` → size of each dimension  \n",
    "  - `.size` → total number of elements  \n",
    "  - `.dtype` → data type of elements  \n",
    "\n",
    "- **Indexing in NumPy arrays**:\n",
    "  - Similar to Python lists (0-based indexing).\n",
    "  - Supports **negative indexing** for accessing elements from the end.\n",
    "  - Works with 1D, 2D, and higher-dimensional arrays.\n",
    "\n",
    "- **Slicing arrays**:\n",
    "  - `array[start:end]` → extracts a portion.\n",
    "  - `array[start:end:step]` → with step size.\n",
    "  - Supports slicing across multiple dimensions.\n",
    "\n",
    "- **Multidimensional indexing**:\n",
    "  - Use commas: `array[row, col]`\n",
    "  - Can extract specific rows, columns, or submatrices.\n",
    "\n",
    "✅ With attributes and indexing, you can now **understand your arrays better and manipulate their contents efficiently**, which is the foundation for most NumPy operations.\n",
    "\n",
    "---\n"
   ]
  }
 ],
 "metadata": {
  "kernelspec": {
   "display_name": "Python 3",
   "language": "python",
   "name": "python3"
  },
  "language_info": {
   "codemirror_mode": {
    "name": "ipython",
    "version": 3
   },
   "file_extension": ".py",
   "mimetype": "text/x-python",
   "name": "python",
   "nbconvert_exporter": "python",
   "pygments_lexer": "ipython3",
   "version": "3.10.11"
  }
 },
 "nbformat": 4,
 "nbformat_minor": 5
}
