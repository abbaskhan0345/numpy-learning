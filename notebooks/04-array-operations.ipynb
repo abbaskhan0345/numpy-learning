{
 "cells": [
  {
   "cell_type": "markdown",
   "id": "41db76ba",
   "metadata": {},
   "source": [
    "# 04 - Array Operations in NumPy\n",
    "**`04-array-operations.ipynb`**\n",
    "\n",
    "In this notebook, we will learn about **array operations in NumPy**, which make it extremely powerful for numerical computing. Unlike Python lists, NumPy arrays allow **element-wise operations**, broadcasting, and efficient mathematical computations.\n",
    "\n",
    "---"
   ]
  },
  {
   "cell_type": "markdown",
   "id": "1d02c53e",
   "metadata": {},
   "source": [
    "\n",
    "## 1. Arithmetic Operations\n",
    "\n",
    "NumPy allows **element-wise arithmetic** operations directly on arrays.\n"
   ]
  },
  {
   "cell_type": "code",
   "execution_count": 1,
   "id": "55e202cb",
   "metadata": {},
   "outputs": [
    {
     "name": "stdout",
     "output_type": "stream",
     "text": [
      "Addition: [11 22 33 44]\n",
      "Subtraction: [ -9 -18 -27 -36]\n",
      "Multiplication: [ 10  40  90 160]\n",
      "Division: [10. 10. 10. 10.]\n",
      "Power: [ 1  4  9 16]\n"
     ]
    }
   ],
   "source": [
    "import numpy as np\n",
    "\n",
    "a = np.array([1, 2, 3, 4])\n",
    "b = np.array([10, 20, 30, 40])\n",
    "\n",
    "print(\"Addition:\", a + b)\n",
    "print(\"Subtraction:\", a - b)\n",
    "print(\"Multiplication:\", a * b)\n",
    "print(\"Division:\", b / a)\n",
    "print(\"Power:\", a ** 2)\n"
   ]
  },
  {
   "cell_type": "markdown",
   "id": "7e0cf317",
   "metadata": {},
   "source": [
    "\n",
    "---\n"
   ]
  },
  {
   "cell_type": "markdown",
   "id": "f4708f86",
   "metadata": {},
   "source": [
    "## 2. Universal Functions (ufuncs)\n",
    "\n",
    "NumPy provides **built-in mathematical functions** (called *ufuncs*) that operate element-wise on arrays."
   ]
  },
  {
   "cell_type": "code",
   "execution_count": 7,
   "id": "3da55d42",
   "metadata": {},
   "outputs": [
    {
     "name": "stdout",
     "output_type": "stream",
     "text": [
      "Square root: [1. 2. 3. 4.]\n",
      "Exponential: [2.71828183e+00 5.45981500e+01 8.10308393e+03 8.88611052e+06]\n",
      "Logarithm: [0.         1.38629436 2.19722458 2.77258872]\n",
      "Sine: [ 0.84147098 -0.7568025   0.41211849 -0.28790332]\n",
      "Cosine: [ 0.54030231 -0.65364362 -0.91113026 -0.95765948]\n"
     ]
    }
   ],
   "source": [
    "\n",
    "arr = np.array([1, 4, 9, 16])\n",
    "\n",
    "print(\"Square root:\", np.sqrt(arr))\n",
    "print(\"Exponential:\", np.exp(arr))\n",
    "print(\"Logarithm:\", np.log(arr))\n",
    "print(\"Sine:\", np.sin(arr))\n",
    "print(\"Cosine:\", np.cos(arr))\n"
   ]
  },
  {
   "cell_type": "markdown",
   "id": "d7adfcd1",
   "metadata": {},
   "source": [
    "👉 Ufuncs are **vectorized**, meaning they work faster than looping through elements in Python.\n",
    "\n",
    "---"
   ]
  },
  {
   "cell_type": "markdown",
   "id": "a4d00377",
   "metadata": {},
   "source": [
    "## 3. Aggregate Functions\n",
    "\n",
    "NumPy arrays support **aggregation** (finding overall values like sum, mean, etc.)."
   ]
  },
  {
   "cell_type": "code",
   "execution_count": 2,
   "id": "3694d8bf",
   "metadata": {},
   "outputs": [
    {
     "name": "stdout",
     "output_type": "stream",
     "text": [
      "Sum: 21\n",
      "Mean: 3.5\n",
      "Max: 6\n",
      "Min: 1\n",
      "Standard Deviation: 1.707825127659933\n",
      "Variance: 2.9166666666666665\n"
     ]
    }
   ],
   "source": [
    "arr = np.array([1, 2, 3, 4, 5, 6])\n",
    "\n",
    "print(\"Sum:\", np.sum(arr))\n",
    "print(\"Mean:\", np.mean(arr))\n",
    "print(\"Max:\", np.max(arr))\n",
    "print(\"Min:\", np.min(arr))\n",
    "print(\"Standard Deviation:\", np.std(arr))\n",
    "print(\"Variance:\", np.var(arr))"
   ]
  },
  {
   "cell_type": "markdown",
   "id": "48ba755c",
   "metadata": {},
   "source": [
    "👉 Aggregations can also be done **across axes** for multidimensional arrays.\n"
   ]
  },
  {
   "cell_type": "code",
   "execution_count": 8,
   "id": "66e9a874",
   "metadata": {},
   "outputs": [
    {
     "name": "stdout",
     "output_type": "stream",
     "text": [
      "Sum of all elements: 21\n",
      "Sum across rows: [ 6 15]\n",
      "Sum across columns: [5 7 9]\n"
     ]
    }
   ],
   "source": [
    "matrix = np.array([[1, 2, 3],\n",
    "                   [4, 5, 6]])\n",
    "\n",
    "print(\"Sum of all elements:\", np.sum(matrix))\n",
    "print(\"Sum across rows:\", np.sum(matrix, axis=1))\n",
    "print(\"Sum across columns:\", np.sum(matrix, axis=0))\n"
   ]
  },
  {
   "cell_type": "markdown",
   "id": "8c3642fc",
   "metadata": {},
   "source": [
    "\n",
    "---\n"
   ]
  },
  {
   "cell_type": "markdown",
   "id": "50653784",
   "metadata": {},
   "source": [
    "## 4. Broadcasting\n",
    "\n",
    "Broadcasting allows NumPy to perform operations on arrays of **different shapes**.\n"
   ]
  },
  {
   "cell_type": "code",
   "execution_count": 3,
   "id": "c77bf0e5",
   "metadata": {},
   "outputs": [
    {
     "name": "stdout",
     "output_type": "stream",
     "text": [
      "Array + Scalar: [3 4 5]\n"
     ]
    }
   ],
   "source": [
    "a = np.array([1, 2, 3])\n",
    "b = 2  # Scalar\n",
    "\n",
    "print(\"Array + Scalar:\", a + b)\n"
   ]
  },
  {
   "cell_type": "code",
   "execution_count": 4,
   "id": "06d11ebd",
   "metadata": {},
   "outputs": [
    {
     "name": "stdout",
     "output_type": "stream",
     "text": [
      "Matrix + Vector:\n",
      " [[11 22 33]\n",
      " [14 25 36]]\n"
     ]
    }
   ],
   "source": [
    "# Broadcasting with 2D array\n",
    "matrix = np.array([[1, 2, 3],\n",
    "                   [4, 5, 6]])\n",
    "vector = np.array([10, 20, 30])\n",
    "\n",
    "print(\"Matrix + Vector:\\n\", matrix + vector)"
   ]
  },
  {
   "cell_type": "markdown",
   "id": "133619a9",
   "metadata": {},
   "source": [
    "👉 Broadcasting rules:\n",
    "\n",
    "1. If arrays have different dimensions, NumPy pads with ones.\n",
    "2. Sizes must match or one must be `1`.\n",
    "\n",
    "---"
   ]
  },
  {
   "cell_type": "markdown",
   "id": "f73fb4d7",
   "metadata": {},
   "source": [
    "## 5. Comparison Operations\n",
    "\n",
    "NumPy supports element-wise comparisons."
   ]
  },
  {
   "cell_type": "code",
   "execution_count": 5,
   "id": "449a0277",
   "metadata": {},
   "outputs": [
    {
     "name": "stdout",
     "output_type": "stream",
     "text": [
      "Greater than 2: [False False  True  True  True]\n",
      "Equal to 3: [False False  True False False]\n",
      "Elements greater than 2: [3 4 5]\n"
     ]
    }
   ],
   "source": [
    "arr = np.array([1, 2, 3, 4, 5])\n",
    "\n",
    "print(\"Greater than 2:\", arr > 2)\n",
    "print(\"Equal to 3:\", arr == 3)\n",
    "\n",
    "# Boolean indexing\n",
    "print(\"Elements greater than 2:\", arr[arr > 2])"
   ]
  },
  {
   "cell_type": "markdown",
   "id": "c25dc8e3",
   "metadata": {},
   "source": [
    "\n",
    "---\n"
   ]
  },
  {
   "cell_type": "markdown",
   "id": "c4f14ff1",
   "metadata": {},
   "source": [
    "## 6. Linear Algebra Operations\n",
    "\n",
    "NumPy includes functions for **matrix operations**."
   ]
  },
  {
   "cell_type": "code",
   "execution_count": 6,
   "id": "b0a7de94",
   "metadata": {},
   "outputs": [
    {
     "name": "stdout",
     "output_type": "stream",
     "text": [
      "Matrix Multiplication:\n",
      " [[19 22]\n",
      " [43 50]]\n",
      "Transpose:\n",
      " [[1 3]\n",
      " [2 4]]\n",
      "Determinant: -2.0000000000000004\n",
      "Inverse:\n",
      " [[-2.   1. ]\n",
      " [ 1.5 -0.5]]\n"
     ]
    }
   ],
   "source": [
    "A = np.array([[1, 2],\n",
    "              [3, 4]])\n",
    "\n",
    "B = np.array([[5, 6],\n",
    "              [7, 8]])\n",
    "\n",
    "print(\"Matrix Multiplication:\\n\", np.dot(A, B))\n",
    "print(\"Transpose:\\n\", A.T)\n",
    "print(\"Determinant:\", np.linalg.det(A))\n",
    "print(\"Inverse:\\n\", np.linalg.inv(A))\n"
   ]
  },
  {
   "cell_type": "markdown",
   "id": "5467d96a",
   "metadata": {},
   "source": [
    "\n",
    "---\n"
   ]
  },
  {
   "cell_type": "markdown",
   "id": "f65fd945",
   "metadata": {},
   "source": [
    "## Summary\n",
    "\n",
    "In this notebook, we learned about:\n",
    "\n",
    "* **Arithmetic operations** (element-wise addition, subtraction, etc.)\n",
    "* **Universal functions (ufuncs)** like `sqrt`, `exp`, `log`, `sin`, etc.\n",
    "* **Aggregate functions** like `sum`, `mean`, `std`, etc.\n",
    "* **Broadcasting** → operations on arrays of different shapes.\n",
    "* **Comparison operations** with boolean indexing.\n",
    "* **Linear algebra operations** like dot product, transpose, determinant, and inverse.\n",
    "\n",
    "✅ NumPy makes mathematical operations **fast and concise**, forming the basis for scientific and data-intensive applications.\n",
    "\n",
    "---\n"
   ]
  },
  {
   "cell_type": "markdown",
   "id": "f0522f45",
   "metadata": {},
   "source": [
    "\n",
    "---\n"
   ]
  }
 ],
 "metadata": {
  "kernelspec": {
   "display_name": "Python 3",
   "language": "python",
   "name": "python3"
  },
  "language_info": {
   "codemirror_mode": {
    "name": "ipython",
    "version": 3
   },
   "file_extension": ".py",
   "mimetype": "text/x-python",
   "name": "python",
   "nbconvert_exporter": "python",
   "pygments_lexer": "ipython3",
   "version": "3.10.11"
  }
 },
 "nbformat": 4,
 "nbformat_minor": 5
}
