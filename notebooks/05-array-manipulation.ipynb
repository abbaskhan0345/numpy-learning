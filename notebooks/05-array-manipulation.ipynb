{
 "cells": [
  {
   "cell_type": "markdown",
   "id": "742239e0",
   "metadata": {},
   "source": [
    "# 05 – Array Manipulation in NumPy\n",
    "**`05-array-manipulation.ipynb`**\n",
    "\n",
    "In this notebook, we will explore different ways to manipulate arrays in NumPy.\n",
    "Array manipulation is an essential part of numerical computing, allowing us to reshape, join, or split arrays as needed.\n",
    "\n",
    "---\n"
   ]
  },
  {
   "cell_type": "markdown",
   "id": "0ad67546",
   "metadata": {},
   "source": [
    "\n",
    "## Topics Covered\n",
    "\n",
    "* Reshaping Arrays\n",
    "* Flattening Arrays\n",
    "* Transposing Arrays\n",
    "* Stacking Arrays\n",
    "* Splitting Arrays\n",
    "\n",
    "---\n"
   ]
  },
  {
   "cell_type": "markdown",
   "id": "d4e6a909",
   "metadata": {},
   "source": [
    "## Reshaping Arrays\n",
    "\n",
    "We can change the shape of an array without changing its data using the `reshape()` method.\n"
   ]
  },
  {
   "cell_type": "code",
   "execution_count": 1,
   "id": "a9ac5752",
   "metadata": {},
   "outputs": [
    {
     "name": "stdout",
     "output_type": "stream",
     "text": [
      "Original Array: [ 0  1  2  3  4  5  6  7  8  9 10 11]\n",
      "\n",
      "Reshaped (3x4):\n",
      " [[ 0  1  2  3]\n",
      " [ 4  5  6  7]\n",
      " [ 8  9 10 11]]\n",
      "\n",
      "Reshaped (2x2x3):\n",
      " [[[ 0  1  2]\n",
      "  [ 3  4  5]]\n",
      "\n",
      " [[ 6  7  8]\n",
      "  [ 9 10 11]]]\n"
     ]
    }
   ],
   "source": [
    "import numpy as np\n",
    "\n",
    "# Original array\n",
    "arr = np.arange(12)\n",
    "print(\"Original Array:\", arr)\n",
    "\n",
    "# Reshape into 3x4\n",
    "reshaped = arr.reshape(3, 4)\n",
    "print(\"\\nReshaped (3x4):\\n\", reshaped)\n",
    "\n",
    "# Reshape into 2x2x3\n",
    "reshaped_3d = arr.reshape(2, 2, 3)\n",
    "print(\"\\nReshaped (2x2x3):\\n\", reshaped_3d)\n"
   ]
  },
  {
   "cell_type": "markdown",
   "id": "e326e12b",
   "metadata": {},
   "source": [
    "🔹 Note: The product of dimensions must match the number of elements.\n",
    "\n",
    "---"
   ]
  },
  {
   "cell_type": "markdown",
   "id": "edf7dc77",
   "metadata": {},
   "source": [
    "## Flattening Arrays\n",
    "\n",
    "Convert a multi-dimensional array into a 1D array.\n"
   ]
  },
  {
   "cell_type": "code",
   "execution_count": 2,
   "id": "bb0d31a0",
   "metadata": {},
   "outputs": [
    {
     "name": "stdout",
     "output_type": "stream",
     "text": [
      "Flattened with flatten(): [ 0  1  2  3  4  5  6  7  8  9 10 11]\n",
      "Flattened with ravel(): [ 0  1  2  3  4  5  6  7  8  9 10 11]\n"
     ]
    }
   ],
   "source": [
    "# Flatten using flatten()\n",
    "flat1 = reshaped.flatten()\n",
    "print(\"Flattened with flatten():\", flat1)\n",
    "\n",
    "# Flatten using ravel()\n",
    "flat2 = reshaped.ravel()\n",
    "print(\"Flattened with ravel():\", flat2)\n"
   ]
  },
  {
   "cell_type": "markdown",
   "id": "6fdffea3",
   "metadata": {},
   "source": [
    "🔹 `flatten()` returns a copy,\n",
    "🔹 `ravel()` returns a view (changes affect original array).\n",
    "\n",
    "---"
   ]
  },
  {
   "cell_type": "markdown",
   "id": "9ccb332e",
   "metadata": {},
   "source": [
    "## Transposing Arrays\n",
    "\n",
    "Transpose rearranges axes (like flipping rows and columns).\n"
   ]
  },
  {
   "cell_type": "code",
   "execution_count": 3,
   "id": "c9ea686e",
   "metadata": {},
   "outputs": [
    {
     "name": "stdout",
     "output_type": "stream",
     "text": [
      "Original:\n",
      " [[1 2 3]\n",
      " [4 5 6]]\n",
      "Transposed:\n",
      " [[1 4]\n",
      " [2 5]\n",
      " [3 6]]\n",
      "\n",
      "Original 3D shape: (2, 3, 4)\n",
      "Transposed (swap axes): (3, 2, 4)\n"
     ]
    }
   ],
   "source": [
    "# Transpose of a 2D array\n",
    "arr2d = np.array([[1, 2, 3], [4, 5, 6]])\n",
    "print(\"Original:\\n\", arr2d)\n",
    "print(\"Transposed:\\n\", arr2d.T)\n",
    "\n",
    "# Transpose of a 3D array\n",
    "arr3d = np.arange(24).reshape(2, 3, 4)\n",
    "print(\"\\nOriginal 3D shape:\", arr3d.shape)\n",
    "print(\"Transposed (swap axes):\", arr3d.transpose(1, 0, 2).shape)\n"
   ]
  },
  {
   "cell_type": "markdown",
   "id": "9b8ef400",
   "metadata": {},
   "source": [
    "\n",
    "---\n",
    "\n"
   ]
  },
  {
   "cell_type": "markdown",
   "id": "5ace68ae",
   "metadata": {},
   "source": [
    "## Stacking Arrays\n",
    "\n",
    "We can **combine multiple arrays** vertically, horizontally, or depth-wise.\n",
    "\n"
   ]
  },
  {
   "cell_type": "code",
   "execution_count": 4,
   "id": "9cc61ece",
   "metadata": {},
   "outputs": [
    {
     "name": "stdout",
     "output_type": "stream",
     "text": [
      "Vertical Stack:\n",
      " [[1 2]\n",
      " [3 4]\n",
      " [5 6]\n",
      " [7 8]]\n",
      "\n",
      "Horizontal Stack:\n",
      " [[1 2 5 6]\n",
      " [3 4 7 8]]\n",
      "\n",
      "Depth Stack:\n",
      " [[[1 5]\n",
      "  [2 6]]\n",
      "\n",
      " [[3 7]\n",
      "  [4 8]]]\n"
     ]
    }
   ],
   "source": [
    "a = np.array([[1, 2], [3, 4]])\n",
    "b = np.array([[5, 6], [7, 8]])\n",
    "\n",
    "# Vertical stacking (row-wise)\n",
    "vstacked = np.vstack((a, b))\n",
    "print(\"Vertical Stack:\\n\", vstacked)\n",
    "\n",
    "# Horizontal stacking (column-wise)\n",
    "hstacked = np.hstack((a, b))\n",
    "print(\"\\nHorizontal Stack:\\n\", hstacked)\n",
    "\n",
    "# Depth stacking (along new axis)\n",
    "dstacked = np.dstack((a, b))\n",
    "print(\"\\nDepth Stack:\\n\", dstacked)\n"
   ]
  },
  {
   "cell_type": "markdown",
   "id": "55e8c637",
   "metadata": {},
   "source": [
    "\n",
    "---\n",
    "\n"
   ]
  },
  {
   "cell_type": "markdown",
   "id": "c7f23dea",
   "metadata": {},
   "source": [
    "## Splitting Arrays\n",
    "\n",
    "We can split arrays into multiple smaller arrays.\n"
   ]
  },
  {
   "cell_type": "code",
   "execution_count": 5,
   "id": "6c63bf36",
   "metadata": {},
   "outputs": [
    {
     "name": "stdout",
     "output_type": "stream",
     "text": [
      "Original Array:\n",
      " [[ 0  1  2  3]\n",
      " [ 4  5  6  7]\n",
      " [ 8  9 10 11]]\n",
      "\n",
      "Horizontal Split:\n",
      "[[0 1]\n",
      " [4 5]\n",
      " [8 9]]\n",
      "[[ 2  3]\n",
      " [ 6  7]\n",
      " [10 11]]\n",
      "\n",
      "Vertical Split:\n",
      "[[0 1 2 3]]\n",
      "[[4 5 6 7]]\n",
      "[[ 8  9 10 11]]\n"
     ]
    }
   ],
   "source": [
    "arr = np.arange(12).reshape(3, 4)\n",
    "print(\"Original Array:\\n\", arr)\n",
    "\n",
    "# Split into 2 equal parts horizontally\n",
    "hsplit = np.hsplit(arr, 2)\n",
    "print(\"\\nHorizontal Split:\")\n",
    "for part in hsplit:\n",
    "    print(part)\n",
    "\n",
    "# Split into 3 equal parts vertically\n",
    "vsplit = np.vsplit(arr, 3)\n",
    "print(\"\\nVertical Split:\")\n",
    "for part in vsplit:\n",
    "    print(part)\n"
   ]
  },
  {
   "cell_type": "markdown",
   "id": "2ed12cd9",
   "metadata": {},
   "source": [
    "\n",
    "---\n",
    "\n"
   ]
  },
  {
   "cell_type": "markdown",
   "id": "9e760867",
   "metadata": {},
   "source": [
    "## Summary\n",
    "\n",
    "In this notebook, we covered:\n",
    "\n",
    "* **Reshaping** arrays to different dimensions\n",
    "* **Flattening** arrays into 1D\n",
    "* **Transposing** arrays (2D and 3D)\n",
    "* **Stacking** arrays vertically, horizontally, and depth-wise\n",
    "* **Splitting** arrays into smaller parts\n",
    "\n",
    "---\n"
   ]
  },
  {
   "cell_type": "markdown",
   "id": "76e131aa",
   "metadata": {},
   "source": [
    "\n",
    "👉 Next, we’ll move to **`06-mathematical-functions.ipynb`**, where we will explore mathematical and statistical functions in NumPy.\n",
    "\n",
    "---\n"
   ]
  },
  {
   "cell_type": "markdown",
   "id": "ccd87a27",
   "metadata": {},
   "source": []
  }
 ],
 "metadata": {
  "kernelspec": {
   "display_name": "Python 3",
   "language": "python",
   "name": "python3"
  },
  "language_info": {
   "codemirror_mode": {
    "name": "ipython",
    "version": 3
   },
   "file_extension": ".py",
   "mimetype": "text/x-python",
   "name": "python",
   "nbconvert_exporter": "python",
   "pygments_lexer": "ipython3",
   "version": "3.10.11"
  }
 },
 "nbformat": 4,
 "nbformat_minor": 5
}
