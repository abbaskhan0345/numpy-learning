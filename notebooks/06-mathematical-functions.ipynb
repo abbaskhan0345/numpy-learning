{
 "cells": [
  {
   "cell_type": "markdown",
   "id": "449a85cb",
   "metadata": {},
   "source": [
    "# 06 - Mathematical Functions in NumPy\n",
    "**`06-mathematical-functions.ipynb`**\n",
    "\n",
    "In this notebook, we will cover how to perform mathematical operations using NumPy’s built-in functions.  \n",
    "NumPy provides a wide variety of mathematical functions for **element-wise operations**, **aggregate computations**, and more advanced operations.\n",
    "\n",
    "---\n"
   ]
  },
  {
   "cell_type": "markdown",
   "id": "0861c7b8",
   "metadata": {},
   "source": [
    "## Why Use NumPy for Math?\n",
    "\n",
    "- **Fast execution** (uses optimized C libraries under the hood).  \n",
    "- **Vectorized operations** (apply a function to an entire array without loops).  \n",
    "- **Consistency** (works the same on scalars, 1D arrays, and multi-dimensional arrays).  \n",
    "\n",
    "---\n"
   ]
  },
  {
   "cell_type": "markdown",
   "id": "6e782b8d",
   "metadata": {},
   "source": [
    "## 1. Basic Mathematical Operations\n",
    "\n",
    "NumPy provides functions for element-wise math operations."
   ]
  },
  {
   "cell_type": "code",
   "execution_count": null,
   "id": "c1b4418f",
   "metadata": {},
   "outputs": [],
   "source": [
    "import numpy as np\n",
    "\n",
    "arr = np.array([1, 2, 3, 4, 5])\n",
    "\n",
    "print(\"Square Root:\", np.sqrt(arr))\n",
    "print(\"Exponential:\", np.exp(arr))\n",
    "print(\"Logarithm:\", np.log(arr))\n",
    "print(\"Log Base 10:\", np.log10(arr))\n"
   ]
  },
  {
   "cell_type": "markdown",
   "id": "594102c7",
   "metadata": {},
   "source": [
    "\n",
    "---\n"
   ]
  },
  {
   "cell_type": "markdown",
   "id": "c40a9097",
   "metadata": {},
   "source": [
    "## 2. Trigonometric Functions\n",
    "\n",
    "NumPy includes many trigonometric functions."
   ]
  },
  {
   "cell_type": "code",
   "execution_count": null,
   "id": "5e720834",
   "metadata": {},
   "outputs": [],
   "source": [
    "angles = np.array([0, np.pi/2, np.pi])\n",
    "\n",
    "print(\"Sine:\", np.sin(angles))\n",
    "print(\"Cosine:\", np.cos(angles))\n",
    "print(\"Tangent:\", np.tan(angles))\n"
   ]
  },
  {
   "cell_type": "markdown",
   "id": "c2de665f",
   "metadata": {},
   "source": [
    "\n",
    "We can also perform **inverse trigonometric functions**:\n"
   ]
  },
  {
   "cell_type": "code",
   "execution_count": null,
   "id": "c5931418",
   "metadata": {},
   "outputs": [],
   "source": [
    "values = np.array([0, 1, -1])\n",
    "\n",
    "print(\"Arcsin:\", np.arcsin(values))\n",
    "print(\"Arccos:\", np.arccos(values))\n",
    "print(\"Arctan:\", np.arctan(values))\n"
   ]
  },
  {
   "cell_type": "markdown",
   "id": "173cc8b0",
   "metadata": {},
   "source": [
    "---"
   ]
  },
  {
   "cell_type": "markdown",
   "id": "c1cfcc35",
   "metadata": {},
   "source": [
    "## 3. Rounding Functions\n",
    "\n",
    "NumPy provides multiple ways to round numbers.\n"
   ]
  },
  {
   "cell_type": "code",
   "execution_count": null,
   "id": "2973e446",
   "metadata": {},
   "outputs": [],
   "source": [
    "arr = np.array([1.234, 2.678, 3.14159])\n",
    "\n",
    "print(\"Round:\", np.round(arr, 2))\n",
    "print(\"Floor:\", np.floor(arr))\n",
    "print(\"Ceil:\", np.ceil(arr))\n"
   ]
  },
  {
   "cell_type": "markdown",
   "id": "451570c3",
   "metadata": {},
   "source": [
    "\n",
    "---\n"
   ]
  },
  {
   "cell_type": "markdown",
   "id": "cb732df3",
   "metadata": {},
   "source": [
    "## 4. Aggregate Mathematical Functions\n",
    "\n",
    "These functions compute **single values** from arrays.\n"
   ]
  },
  {
   "cell_type": "code",
   "execution_count": null,
   "id": "e60331df",
   "metadata": {},
   "outputs": [],
   "source": [
    "arr = np.array([1, 2, 3, 4, 5])\n",
    "\n",
    "print(\"Sum:\", np.sum(arr))\n",
    "print(\"Product:\", np.prod(arr))\n",
    "print(\"Mean:\", np.mean(arr))\n",
    "print(\"Median:\", np.median(arr))\n",
    "print(\"Standard Deviation:\", np.std(arr))\n",
    "print(\"Variance:\", np.var(arr))\n"
   ]
  },
  {
   "cell_type": "markdown",
   "id": "6587fee4",
   "metadata": {},
   "source": [
    "\n",
    "---\n"
   ]
  },
  {
   "cell_type": "markdown",
   "id": "f1d1dc9d",
   "metadata": {},
   "source": [
    "## 5. Min, Max and Related Functions"
   ]
  },
  {
   "cell_type": "code",
   "execution_count": null,
   "id": "77448291",
   "metadata": {},
   "outputs": [],
   "source": [
    "arr = np.array([10, 20, 5, 40, 15])\n",
    "\n",
    "print(\"Min Value:\", np.min(arr))\n",
    "print(\"Max Value:\", np.max(arr))\n",
    "print(\"Index of Min:\", np.argmin(arr))\n",
    "print(\"Index of Max:\", np.argmax(arr))\n"
   ]
  },
  {
   "cell_type": "markdown",
   "id": "fb03c7e8",
   "metadata": {},
   "source": [
    "\n",
    "---\n"
   ]
  },
  {
   "cell_type": "markdown",
   "id": "4704ef77",
   "metadata": {},
   "source": [
    "## 6. Cumulative Functions\n",
    "\n",
    "Cumulative operations are very useful in data analysis."
   ]
  },
  {
   "cell_type": "code",
   "execution_count": null,
   "id": "9ed40219",
   "metadata": {},
   "outputs": [],
   "source": [
    "arr = np.array([1, 2, 3, 4])\n",
    "\n",
    "print(\"Cumulative Sum:\", np.cumsum(arr))\n",
    "print(\"Cumulative Product:\", np.cumprod(arr))"
   ]
  },
  {
   "cell_type": "markdown",
   "id": "7e4f8132",
   "metadata": {},
   "source": [
    "\n",
    "---\n"
   ]
  },
  {
   "cell_type": "markdown",
   "id": "a09fcd9e",
   "metadata": {},
   "source": [
    "## 7. Advanced Mathematical Functions\n",
    "\n",
    "NumPy also provides more specialized functions:"
   ]
  },
  {
   "cell_type": "code",
   "execution_count": null,
   "id": "46c086e1",
   "metadata": {},
   "outputs": [],
   "source": [
    "arr = np.array([1, 2, 3])\n",
    "\n",
    "print(\"Power:\", np.power(arr, 2))     # arr^2\n",
    "print(\"Absolute:\", np.abs([-1, -2, 3]))\n",
    "print(\"Sign:\", np.sign([-5, 0, 5]))"
   ]
  },
  {
   "cell_type": "markdown",
   "id": "27fe9fcf",
   "metadata": {},
   "source": [
    "\n",
    "---"
   ]
  },
  {
   "cell_type": "markdown",
   "id": "0f5b7a1e",
   "metadata": {},
   "source": [
    "## Summary\n",
    "\n",
    "* NumPy provides a **rich set of mathematical functions** for arrays.\n",
    "* Functions can be grouped into:\n",
    "\n",
    "  * **Basic element-wise math** (`sqrt`, `exp`, `log`)\n",
    "  * **Trigonometric functions** (`sin`, `cos`, `tan`)\n",
    "  * **Rounding functions** (`round`, `floor`, `ceil`)\n",
    "  * **Aggregate functions** (`sum`, `mean`, `std`, `var`)\n",
    "  * **Min/Max functions** (`min`, `max`, `argmin`, `argmax`)\n",
    "  * **Cumulative functions** (`cumsum`, `cumprod`)\n",
    "* These operations make NumPy **powerful for numerical and scientific computing**.\n",
    "\n",
    "---\n",
    "\n",
    "---\n"
   ]
  }
 ],
 "metadata": {
  "kernelspec": {
   "display_name": "Python 3",
   "language": "python",
   "name": "python3"
  },
  "language_info": {
   "codemirror_mode": {
    "name": "ipython",
    "version": 3
   },
   "file_extension": ".py",
   "mimetype": "text/x-python",
   "name": "python",
   "nbconvert_exporter": "python",
   "pygments_lexer": "ipython3",
   "version": "3.10.11"
  }
 },
 "nbformat": 4,
 "nbformat_minor": 5
}
