{
 "cells": [
  {
   "cell_type": "markdown",
   "id": "cff8bfbf",
   "metadata": {},
   "source": [
    "# 07-random-module.ipynb\n",
    "**`07-random-module.ipynb`**\n",
    "\n",
    "# NumPy Random Module\n",
    "\n",
    "In this notebook, we will learn about **NumPy's `random` module**, which provides powerful tools for generating random numbers, simulating probability distributions, and performing random sampling.\n",
    "\n",
    "---\n"
   ]
  },
  {
   "cell_type": "markdown",
   "id": "b67e6165",
   "metadata": {},
   "source": [
    "\n",
    "## Topics Covered\n",
    "- Introduction to NumPy Random\n",
    "- Generating Random Numbers\n",
    "- Random Sampling\n",
    "- Random Integers\n",
    "- Probability Distributions\n",
    "  - Uniform Distribution\n",
    "  - Normal (Gaussian) Distribution\n",
    "  - Binomial Distribution\n",
    "- Shuffling and Permutations\n",
    "- Practical Examples\n",
    "- Summary\n",
    "\n",
    "---\n"
   ]
  },
  {
   "cell_type": "markdown",
   "id": "b3ab17b0",
   "metadata": {},
   "source": [
    "## Introduction to NumPy Random\n",
    "\n",
    "The `numpy.random` module allows us to generate:\n",
    "- Random integers\n",
    "- Random floats\n",
    "- Random samples from distributions\n",
    "- Randomly shuffled arrays\n",
    "\n",
    "This is widely used in:\n",
    "- Data Science (train-test splitting, bootstrapping)\n",
    "- Machine Learning (weight initialization, data augmentation)\n",
    "- Simulations and Modeling\n",
    "\n",
    "---\n"
   ]
  },
  {
   "cell_type": "code",
   "execution_count": 1,
   "id": "d06fc343",
   "metadata": {},
   "outputs": [],
   "source": [
    "import numpy as np\n"
   ]
  },
  {
   "cell_type": "markdown",
   "id": "298c7678",
   "metadata": {},
   "source": [
    "---"
   ]
  },
  {
   "cell_type": "markdown",
   "id": "3227efbc",
   "metadata": {},
   "source": [
    "## Generating Random Numbers\n",
    "We can generate random numbers using:\n",
    "\n",
    "- `np.random.rand()` → random floats in range `[0, 1)`.\n",
    "- `np.random.randn()` → random floats from standard normal distribution.\n",
    "- `np.random.random()` → another way to get random floats `[0, 1)`.\n"
   ]
  },
  {
   "cell_type": "code",
   "execution_count": 2,
   "id": "e53ef70a",
   "metadata": {},
   "outputs": [
    {
     "name": "stdout",
     "output_type": "stream",
     "text": [
      "rand: [0.71059666 0.75846493 0.38901202]\n",
      "randn: [-1.50708351  1.8689838  -0.28229912]\n",
      "random: [0.35485032 0.51366994 0.71490808]\n"
     ]
    }
   ],
   "source": [
    "# Random floats between 0 and 1\n",
    "print(\"rand:\", np.random.rand(3))\n",
    "\n",
    "# Random floats from normal distribution\n",
    "print(\"randn:\", np.random.randn(3))\n",
    "\n",
    "# Another way to generate random floats [0, 1)\n",
    "print(\"random:\", np.random.random(3))\n"
   ]
  },
  {
   "cell_type": "markdown",
   "id": "8af4ef9c",
   "metadata": {},
   "source": [
    "\n",
    "---\n"
   ]
  },
  {
   "cell_type": "markdown",
   "id": "59c57cc6",
   "metadata": {},
   "source": [
    "## Random Sampling\n",
    "We can randomly select values from arrays.\n"
   ]
  },
  {
   "cell_type": "code",
   "execution_count": 3,
   "id": "506a705d",
   "metadata": {},
   "outputs": [
    {
     "name": "stdout",
     "output_type": "stream",
     "text": [
      "Original array: [10 20 30 40 50]\n",
      "Random choice: [20 20 30]\n"
     ]
    }
   ],
   "source": [
    "arr = np.array([10, 20, 30, 40, 50])\n",
    "print(\"Original array:\", arr)\n",
    "\n",
    "# Random choice from array\n",
    "print(\"Random choice:\", np.random.choice(arr, 3))\n"
   ]
  },
  {
   "cell_type": "markdown",
   "id": "0d1d7cab",
   "metadata": {},
   "source": [
    "\n",
    "---"
   ]
  },
  {
   "cell_type": "markdown",
   "id": "3e055bd3",
   "metadata": {},
   "source": [
    "## Random Integers\n",
    "We can generate random integers using `np.random.randint(low, high, size)`.\n",
    "```\n"
   ]
  },
  {
   "cell_type": "code",
   "execution_count": 4,
   "id": "89c7615b",
   "metadata": {},
   "outputs": [
    {
     "name": "stdout",
     "output_type": "stream",
     "text": [
      "[1 6 1 4 1]\n"
     ]
    }
   ],
   "source": [
    "# Random integers between 1 and 10\n",
    "print(np.random.randint(1, 10, 5))\n"
   ]
  },
  {
   "cell_type": "markdown",
   "id": "8cbf154e",
   "metadata": {},
   "source": [
    "---"
   ]
  },
  {
   "cell_type": "markdown",
   "id": "8f71264a",
   "metadata": {},
   "source": [
    "## Probability Distributions\n",
    "\n",
    "NumPy provides functions to simulate various probability distributions.\n",
    "\n",
    "### 1. Uniform Distribution\n",
    "Numbers are drawn from a uniform distribution over `[low, high)`."
   ]
  },
  {
   "cell_type": "code",
   "execution_count": 5,
   "id": "4eb81771",
   "metadata": {},
   "outputs": [
    {
     "name": "stdout",
     "output_type": "stream",
     "text": [
      "[1.04910018 2.10244874 2.71854896 4.14950798 2.50757521]\n"
     ]
    }
   ],
   "source": [
    "# Uniform distribution\n",
    "print(np.random.uniform(1, 5, 5))\n"
   ]
  },
  {
   "cell_type": "markdown",
   "id": "af806c31",
   "metadata": {},
   "source": [
    "\n",
    "---\n",
    "\n"
   ]
  },
  {
   "cell_type": "markdown",
   "id": "bc6b526d",
   "metadata": {},
   "source": [
    "### 2. Normal (Gaussian) Distribution\n",
    "Numbers are drawn from a normal distribution with `mean` and `standard deviation`.\n"
   ]
  },
  {
   "cell_type": "code",
   "execution_count": 6,
   "id": "2351b5b2",
   "metadata": {},
   "outputs": [
    {
     "name": "stdout",
     "output_type": "stream",
     "text": [
      "[-1.8179795  -0.56581526  0.62823586 -1.13824604 -1.97658364]\n",
      "[ 7.13879846  9.83347326 11.71619979  8.78700953 12.23519536]\n"
     ]
    }
   ],
   "source": [
    "# Normal distribution with mean=0, std=1\n",
    "print(np.random.normal(0, 1, 5))\n",
    "\n",
    "# Normal distribution with mean=10, std=2\n",
    "print(np.random.normal(10, 2, 5))\n"
   ]
  },
  {
   "cell_type": "markdown",
   "id": "3a67e781",
   "metadata": {},
   "source": [
    "\n",
    "---\n"
   ]
  },
  {
   "cell_type": "markdown",
   "id": "c96f46d7",
   "metadata": {},
   "source": [
    "### 3. Binomial Distribution\n",
    "Useful in probability & statistics — simulates number of successes in `n` trials.\n",
    "```\n"
   ]
  },
  {
   "cell_type": "code",
   "execution_count": 7,
   "id": "a7f932ed",
   "metadata": {},
   "outputs": [
    {
     "name": "stdout",
     "output_type": "stream",
     "text": [
      "[6 5 5 3 3]\n"
     ]
    }
   ],
   "source": [
    "# Binomial distribution: 10 trials, prob of success=0.5, size=5\n",
    "print(np.random.binomial(10, 0.5, 5))\n"
   ]
  },
  {
   "cell_type": "markdown",
   "id": "bacc3aa7",
   "metadata": {},
   "source": [
    "\n",
    "---\n"
   ]
  },
  {
   "cell_type": "markdown",
   "id": "06a55d06",
   "metadata": {},
   "source": [
    "## Shuffling and Permutations\n",
    "\n",
    "We can shuffle arrays randomly or generate random permutations.\n"
   ]
  },
  {
   "cell_type": "code",
   "execution_count": 8,
   "id": "8604d294",
   "metadata": {},
   "outputs": [
    {
     "name": "stdout",
     "output_type": "stream",
     "text": [
      "Before shuffle: [0 1 2 3 4 5 6 7 8 9]\n",
      "After shuffle: [8 9 6 1 7 3 4 5 2 0]\n",
      "Random permutation: [5 1 2 3 0 9 6 8 4 7]\n"
     ]
    }
   ],
   "source": [
    "arr = np.arange(10)\n",
    "print(\"Before shuffle:\", arr)\n",
    "\n",
    "np.random.shuffle(arr)\n",
    "print(\"After shuffle:\", arr)\n",
    "\n",
    "print(\"Random permutation:\", np.random.permutation(10))\n"
   ]
  },
  {
   "cell_type": "markdown",
   "id": "79f60d8f",
   "metadata": {},
   "source": [
    "\n",
    "---\n",
    "\n"
   ]
  },
  {
   "cell_type": "markdown",
   "id": "c5a03dda",
   "metadata": {},
   "source": [
    "## Practical Examples\n",
    "\n",
    "1. **Simulating a Dice Roll**\n"
   ]
  },
  {
   "cell_type": "code",
   "execution_count": 9,
   "id": "7ddba21e",
   "metadata": {},
   "outputs": [
    {
     "name": "stdout",
     "output_type": "stream",
     "text": [
      "10 dice rolls: [4 4 5 3 4 2 1 5 3 2]\n"
     ]
    }
   ],
   "source": [
    "# Dice roll (1 to 6)\n",
    "dice_rolls = np.random.randint(1, 7, 10)\n",
    "print(\"10 dice rolls:\", dice_rolls)"
   ]
  },
  {
   "cell_type": "markdown",
   "id": "17e62466",
   "metadata": {},
   "source": [
    "\n",
    "---"
   ]
  },
  {
   "cell_type": "markdown",
   "id": "f6021b88",
   "metadata": {},
   "source": [
    "2. **Train-Test Split (Random Sampling)**\n",
    "\n"
   ]
  },
  {
   "cell_type": "code",
   "execution_count": 10,
   "id": "2a57772d",
   "metadata": {},
   "outputs": [
    {
     "name": "stdout",
     "output_type": "stream",
     "text": [
      "Data: [ 1  2  3  4  5  6  7  8  9 10 11 12 13 14 15 16 17 18 19 20]\n",
      "Train data: [ 5  2 11  1 17 20  4  7 15  8 13  6 14 12]\n",
      "Test data: [ 3  9 10 16 18 19]\n"
     ]
    }
   ],
   "source": [
    "data = np.arange(1, 21)\n",
    "print(\"Data:\", data)\n",
    "\n",
    "# Randomly selecting 70% for training\n",
    "train = np.random.choice(data, size=14, replace=False)\n",
    "test = np.setdiff1d(data, train)\n",
    "\n",
    "print(\"Train data:\", train)\n",
    "print(\"Test data:\", test)\n"
   ]
  },
  {
   "cell_type": "markdown",
   "id": "eaba3aa4",
   "metadata": {},
   "source": [
    "\n",
    "---\n"
   ]
  },
  {
   "cell_type": "markdown",
   "id": "490d8ad7",
   "metadata": {},
   "source": [
    "3. **Monte Carlo Simulation Example**\n",
    "\n",
    "Estimate the value of π (pi) using random sampling.\n"
   ]
  },
  {
   "cell_type": "code",
   "execution_count": 11,
   "id": "e8012336",
   "metadata": {},
   "outputs": [
    {
     "name": "stdout",
     "output_type": "stream",
     "text": [
      "Estimated π: 3.14392\n"
     ]
    }
   ],
   "source": [
    "N = 100000\n",
    "x = np.random.rand(N)\n",
    "y = np.random.rand(N)\n",
    "\n",
    "# Points inside circle: x^2 + y^2 <= 1\n",
    "inside_circle = np.sum(x**2 + y**2 <= 1)\n",
    "\n",
    "pi_estimate = (inside_circle / N) * 4\n",
    "print(\"Estimated π:\", pi_estimate)\n"
   ]
  },
  {
   "cell_type": "markdown",
   "id": "eacf05d1",
   "metadata": {},
   "source": [
    "\n",
    "---\n"
   ]
  },
  {
   "cell_type": "markdown",
   "id": "bd323f1a",
   "metadata": {},
   "source": [
    "## Summary\n",
    "\n",
    "- `np.random.rand(), np.random.randn(), np.random.random()` → generate random numbers.\n",
    "- `np.random.randint()` → random integers.\n",
    "- `np.random.choice()` → random sampling.\n",
    "- Distributions:\n",
    "  - **Uniform:** `np.random.uniform(low, high, size)`\n",
    "  - **Normal:** `np.random.normal(mean, std, size)`\n",
    "  - **Binomial:** `np.random.binomial(n, p, size)`\n",
    "- `np.random.shuffle()` and `np.random.permutation()` → shuffle data.\n",
    "- Applications: data splitting, simulations, ML initialization, Monte Carlo methods.\n",
    "\n",
    "NumPy's `random` module is essential for **probability, statistics, and machine learning workflows**.\n",
    "\n",
    "---\n",
    "\n"
   ]
  }
 ],
 "metadata": {
  "kernelspec": {
   "display_name": "Python 3",
   "language": "python",
   "name": "python3"
  },
  "language_info": {
   "codemirror_mode": {
    "name": "ipython",
    "version": 3
   },
   "file_extension": ".py",
   "mimetype": "text/x-python",
   "name": "python",
   "nbconvert_exporter": "python",
   "pygments_lexer": "ipython3",
   "version": "3.10.11"
  }
 },
 "nbformat": 4,
 "nbformat_minor": 5
}
