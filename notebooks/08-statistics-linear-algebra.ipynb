{
 "cells": [
  {
   "cell_type": "markdown",
   "id": "1d703580",
   "metadata": {},
   "source": [
    "# Statistics and Linear Algebra with NumPy\n",
    "\n",
    "*`08-statistics-linear-algebra.ipynb`*\n",
    "---\n",
    "\n"
   ]
  },
  {
   "cell_type": "markdown",
   "id": "a42b32bb",
   "metadata": {},
   "source": [
    "## Introduction\n",
    "NumPy provides a wide range of functions for **statistical analysis** and **linear algebra**.  \n",
    "These tools are extremely useful in data science, machine learning, physics simulations, and more.  \n",
    "\n",
    "In this notebook, we will cover:  \n",
    "1. Basic **Statistical Functions** (mean, median, std, etc.)  \n",
    "2. **Linear Algebra Functions** (matrix multiplication, determinants, eigenvalues, etc.)  \n",
    "\n",
    "> ⚠️ Note: We will sometimes add **visualizations** (histograms, eigenvectors) to make concepts clearer.  \n",
    "> Don’t worry about visualization for now—we will learn it in detail in our **Visualization Repo** later.  \n",
    "\n",
    "---\n"
   ]
  },
  {
   "cell_type": "markdown",
   "id": "6f3049d5",
   "metadata": {},
   "source": [
    "## 1. Statistical Functions\n",
    "\n",
    "NumPy provides many built-in statistical functions to quickly analyze datasets.\n",
    "\n",
    "### Mean, Median, Min, Max\n"
   ]
  },
  {
   "cell_type": "code",
   "execution_count": 13,
   "id": "7a6caa30",
   "metadata": {},
   "outputs": [
    {
     "name": "stdout",
     "output_type": "stream",
     "text": [
      "Mean: 30.0\n",
      "Median: 30.0\n",
      "Min: 10\n",
      "Max: 50\n"
     ]
    }
   ],
   "source": [
    "import numpy as np\n",
    "\n",
    "data = np.array([10, 20, 30, 40, 50])\n",
    "\n",
    "print(\"Mean:\", np.mean(data))       # Average\n",
    "print(\"Median:\", np.median(data))   # Middle value\n",
    "print(\"Min:\", np.min(data))         # Smallest value\n",
    "print(\"Max:\", np.max(data))         # Largest value\n"
   ]
  },
  {
   "cell_type": "markdown",
   "id": "7c4dec75",
   "metadata": {},
   "source": [
    "\n",
    "---\n"
   ]
  },
  {
   "cell_type": "markdown",
   "id": "8f07d1ac",
   "metadata": {},
   "source": [
    "### Standard Deviation and Variance\n",
    "\n",
    "* **Standard Deviation (`std`)** measures spread of data.\n",
    "* **Variance (`var`)** is square of std.\n",
    "\n"
   ]
  },
  {
   "cell_type": "code",
   "execution_count": 14,
   "id": "e58c19bc",
   "metadata": {},
   "outputs": [
    {
     "name": "stdout",
     "output_type": "stream",
     "text": [
      "Standard Deviation: 14.142135623730951\n",
      "Variance: 200.0\n"
     ]
    }
   ],
   "source": [
    "print(\"Standard Deviation:\", np.std(data))\n",
    "print(\"Variance:\", np.var(data))\n"
   ]
  },
  {
   "cell_type": "markdown",
   "id": "050775cd",
   "metadata": {},
   "source": [
    "---"
   ]
  },
  {
   "cell_type": "markdown",
   "id": "fc508b09",
   "metadata": {},
   "source": [
    "### Percentiles\n",
    "\n",
    "Percentiles divide data into parts (e.g., 25%, 50%, 75%).\n",
    "\n"
   ]
  },
  {
   "cell_type": "code",
   "execution_count": 15,
   "id": "8e2c0b4d",
   "metadata": {},
   "outputs": [
    {
     "name": "stdout",
     "output_type": "stream",
     "text": [
      "25th Percentile: 20.0\n",
      "50th Percentile (Median): 30.0\n",
      "75th Percentile: 40.0\n"
     ]
    }
   ],
   "source": [
    "print(\"25th Percentile:\", np.percentile(data, 25))\n",
    "print(\"50th Percentile (Median):\", np.percentile(data, 50))\n",
    "print(\"75th Percentile:\", np.percentile(data, 75))\n"
   ]
  },
  {
   "cell_type": "markdown",
   "id": "45931690",
   "metadata": {},
   "source": [
    "\n",
    "---\n",
    "\n"
   ]
  },
  {
   "cell_type": "markdown",
   "id": "ce4e369e",
   "metadata": {},
   "source": [
    "### Histogram\n",
    "\n",
    "We can quickly create histograms from data.\n",
    "\n"
   ]
  },
  {
   "cell_type": "code",
   "execution_count": 16,
   "id": "805a7a47",
   "metadata": {},
   "outputs": [
    {
     "name": "stdout",
     "output_type": "stream",
     "text": [
      "Requirement already satisfied: matplotlib in c:\\users\\hakha\\appdata\\local\\programs\\python\\python310\\lib\\site-packages (3.10.5)\n",
      "Requirement already satisfied: contourpy>=1.0.1 in c:\\users\\hakha\\appdata\\local\\programs\\python\\python310\\lib\\site-packages (from matplotlib) (1.3.2)\n",
      "Requirement already satisfied: cycler>=0.10 in c:\\users\\hakha\\appdata\\local\\programs\\python\\python310\\lib\\site-packages (from matplotlib) (0.12.1)\n",
      "Requirement already satisfied: fonttools>=4.22.0 in c:\\users\\hakha\\appdata\\local\\programs\\python\\python310\\lib\\site-packages (from matplotlib) (4.59.0)\n",
      "Requirement already satisfied: kiwisolver>=1.3.1 in c:\\users\\hakha\\appdata\\local\\programs\\python\\python310\\lib\\site-packages (from matplotlib) (1.4.8)\n",
      "Requirement already satisfied: numpy>=1.23 in c:\\users\\hakha\\appdata\\local\\programs\\python\\python310\\lib\\site-packages (from matplotlib) (2.2.6)\n",
      "Requirement already satisfied: packaging>=20.0 in c:\\users\\hakha\\appdata\\roaming\\python\\python310\\site-packages (from matplotlib) (25.0)\n",
      "Requirement already satisfied: pillow>=8 in c:\\users\\hakha\\appdata\\local\\programs\\python\\python310\\lib\\site-packages (from matplotlib) (11.3.0)\n",
      "Requirement already satisfied: pyparsing>=2.3.1 in c:\\users\\hakha\\appdata\\local\\programs\\python\\python310\\lib\\site-packages (from matplotlib) (3.2.3)\n",
      "Requirement already satisfied: python-dateutil>=2.7 in c:\\users\\hakha\\appdata\\roaming\\python\\python310\\site-packages (from matplotlib) (2.9.0.post0)\n",
      "Requirement already satisfied: six>=1.5 in c:\\users\\hakha\\appdata\\roaming\\python\\python310\\site-packages (from python-dateutil>=2.7->matplotlib) (1.17.0)\n",
      "Note: you may need to restart the kernel to use updated packages.\n"
     ]
    }
   ],
   "source": [
    "%pip install matplotlib \n",
    "#if not installed on device"
   ]
  },
  {
   "cell_type": "code",
   "execution_count": 17,
   "id": "eda971dd",
   "metadata": {},
   "outputs": [
    {
     "name": "stdout",
     "output_type": "stream",
     "text": [
      "Counts: [  4   8  17  22  42  71  89  98 123 117 114  87  82  48  46  17   8   4\n",
      "   2   1]\n",
      "Bins: [21.58820153 24.67492775 27.76165398 30.84838021 33.93510644 37.02183267\n",
      " 40.1085589  43.19528513 46.28201136 49.36873758 52.45546381 55.54219004\n",
      " 58.62891627 61.7156425  64.80236873 67.88909496 70.97582119 74.06254742\n",
      " 77.14927364 80.23599987 83.3227261 ]\n"
     ]
    },
    {
     "data": {
      "image/png": "[encoded data removed]",
      "text/plain": [
       "<Figure size 640x480 with 1 Axes>"
      ]
     },
     "metadata": {},
     "output_type": "display_data"
    }
   ],
   "source": [
    "import matplotlib.pyplot as plt\n",
    "\n",
    "rand_data = np.random.normal(50, 10, 1000)  # mean=50, std=10, size=1000\n",
    "\n",
    "# Histogram values\n",
    "counts, bins = np.histogram(rand_data, bins=20)\n",
    "\n",
    "print(\"Counts:\", counts)\n",
    "print(\"Bins:\", bins)\n",
    "\n",
    "# Visualization\n",
    "plt.hist(rand_data, bins=20, edgecolor='black')\n",
    "plt.title(\"Histogram Example\")\n",
    "plt.xlabel(\"Value Range\")\n",
    "plt.ylabel(\"Frequency\")\n",
    "plt.show()\n"
   ]
  },
  {
   "cell_type": "markdown",
   "id": "4e2eb47b",
   "metadata": {},
   "source": [
    "\n",
    "> ⚠️ Again, don’t worry about plotting—we’ll study visualization later.\n",
    "\n",
    "---\n"
   ]
  },
  {
   "cell_type": "markdown",
   "id": "14ff91af",
   "metadata": {},
   "source": [
    "## 2. Linear Algebra Functions\n",
    "\n",
    "NumPy’s `linalg` module provides efficient implementations of linear algebra operations.\n",
    "\n",
    "### Matrix Multiplication\n",
    "\n"
   ]
  },
  {
   "cell_type": "code",
   "execution_count": 18,
   "id": "bfa8d002",
   "metadata": {},
   "outputs": [
    {
     "name": "stdout",
     "output_type": "stream",
     "text": [
      "Dot Product:\n",
      " [[ 4  4]\n",
      " [10  8]]\n",
      "Matrix Multiplication (matmul):\n",
      " [[ 4  4]\n",
      " [10  8]]\n"
     ]
    }
   ],
   "source": [
    "A = np.array([[1, 2], [3, 4]])\n",
    "B = np.array([[2, 0], [1, 2]])\n",
    "\n",
    "print(\"Dot Product:\\n\", np.dot(A, B))\n",
    "print(\"Matrix Multiplication (matmul):\\n\", np.matmul(A, B))\n",
    "\n"
   ]
  },
  {
   "cell_type": "markdown",
   "id": "3c439e65",
   "metadata": {},
   "source": [
    "---"
   ]
  },
  {
   "cell_type": "markdown",
   "id": "96ddc6bc",
   "metadata": {},
   "source": [
    "### Determinant\n",
    "\n"
   ]
  },
  {
   "cell_type": "code",
   "execution_count": 19,
   "id": "165c0356",
   "metadata": {},
   "outputs": [
    {
     "name": "stdout",
     "output_type": "stream",
     "text": [
      "Determinant of A: -2.0000000000000004\n"
     ]
    }
   ],
   "source": [
    "print(\"Determinant of A:\", np.linalg.det(A))"
   ]
  },
  {
   "cell_type": "markdown",
   "id": "ec6150cb",
   "metadata": {},
   "source": [
    "\n",
    "---"
   ]
  },
  {
   "cell_type": "markdown",
   "id": "e75a9573",
   "metadata": {},
   "source": [
    "### Inverse of a Matrix"
   ]
  },
  {
   "cell_type": "code",
   "execution_count": 20,
   "id": "65f557de",
   "metadata": {},
   "outputs": [
    {
     "name": "stdout",
     "output_type": "stream",
     "text": [
      "Inverse of A:\n",
      " [[-2.   1. ]\n",
      " [ 1.5 -0.5]]\n",
      "A * A_inv:\n",
      " [[1.0000000e+00 0.0000000e+00]\n",
      " [8.8817842e-16 1.0000000e+00]]\n"
     ]
    }
   ],
   "source": [
    "A_inv = np.linalg.inv(A)\n",
    "print(\"Inverse of A:\\n\", A_inv)\n",
    "\n",
    "# Verify: A * A_inv ≈ I\n",
    "print(\"A * A_inv:\\n\", np.dot(A, A_inv))\n"
   ]
  },
  {
   "cell_type": "markdown",
   "id": "28f36d0f",
   "metadata": {},
   "source": [
    "\n",
    "---\n"
   ]
  },
  {
   "cell_type": "markdown",
   "id": "da2e8c1e",
   "metadata": {},
   "source": [
    "### Eigenvalues and Eigenvectors\n",
    "\n",
    "Eigenvalues and eigenvectors are fundamental in PCA, physics, etc."
   ]
  },
  {
   "cell_type": "code",
   "execution_count": 21,
   "id": "a453124a",
   "metadata": {},
   "outputs": [
    {
     "name": "stdout",
     "output_type": "stream",
     "text": [
      "Eigenvalues: [-0.37228132  5.37228132]\n",
      "Eigenvectors:\n",
      " [[-0.82456484 -0.41597356]\n",
      " [ 0.56576746 -0.90937671]]\n"
     ]
    }
   ],
   "source": [
    "eig_vals, eig_vecs = np.linalg.eig(A)\n",
    "\n",
    "print(\"Eigenvalues:\", eig_vals)\n",
    "print(\"Eigenvectors:\\n\", eig_vecs)"
   ]
  },
  {
   "cell_type": "markdown",
   "id": "e09034d8",
   "metadata": {},
   "source": [
    "#### Visualizing Eigenvectors"
   ]
  },
  {
   "cell_type": "code",
   "execution_count": 22,
   "id": "da7c0ef6",
   "metadata": {},
   "outputs": [
    {
     "data": {
      "image/png": "[encoded data removed]",
      "text/plain": [
       "<Figure size 640x480 with 1 Axes>"
      ]
     },
     "metadata": {},
     "output_type": "display_data"
    }
   ],
   "source": [
    "# Visualizing eigenvectors\n",
    "plt.quiver([0, 0], [0, 0], eig_vecs[0,:], eig_vecs[1,:], angles='xy', scale=1, color=['r','b'])\n",
    "plt.xlim(-1, 1)\n",
    "plt.ylim(-1, 1)\n",
    "plt.grid()\n",
    "plt.title(\"Eigenvectors of Matrix A\")\n",
    "plt.show()"
   ]
  },
  {
   "cell_type": "markdown",
   "id": "e2283871",
   "metadata": {},
   "source": [
    "\n",
    "---"
   ]
  },
  {
   "cell_type": "markdown",
   "id": "35bdca90",
   "metadata": {},
   "source": [
    "### Singular Value Decomposition (SVD)\n",
    "\n",
    "SVD is widely used in ML (dimensionality reduction).\n",
    "\n"
   ]
  },
  {
   "cell_type": "code",
   "execution_count": 23,
   "id": "fa60b992",
   "metadata": {},
   "outputs": [
    {
     "name": "stdout",
     "output_type": "stream",
     "text": [
      "U matrix:\n",
      " [[-0.40455358 -0.9145143 ]\n",
      " [-0.9145143   0.40455358]]\n",
      "Singular values: [5.4649857  0.36596619]\n",
      "Vt matrix:\n",
      " [[-0.57604844 -0.81741556]\n",
      " [ 0.81741556 -0.57604844]]\n"
     ]
    }
   ],
   "source": [
    "U, S, Vt = np.linalg.svd(A)\n",
    "\n",
    "print(\"U matrix:\\n\", U)\n",
    "print(\"Singular values:\", S)\n",
    "print(\"Vt matrix:\\n\", Vt)\n"
   ]
  },
  {
   "cell_type": "markdown",
   "id": "4b5f1473",
   "metadata": {},
   "source": [
    "---"
   ]
  },
  {
   "cell_type": "markdown",
   "id": "642c8298",
   "metadata": {},
   "source": [
    "## Summary\n",
    "\n",
    "* **Statistical Functions**: mean, median, std, var, percentile, histogram.\n",
    "* **Linear Algebra Functions**: dot, matmul, determinant, inverse, eigenvalues/eigenvectors, SVD.\n",
    "* Visualizations were added for **histogram** and **eigenvectors** (we’ll cover plotting properly later).\n",
    "\n",
    "NumPy makes statistical analysis and linear algebra operations **fast and simple**. 🚀\n",
    "\n",
    "---\n"
   ]
  }
 ],
 "metadata": {
  "kernelspec": {
   "display_name": "Python 3",
   "language": "python",
   "name": "python3"
  },
  "language_info": {
   "codemirror_mode": {
    "name": "ipython",
    "version": 3
   },
   "file_extension": ".py",
   "mimetype": "text/x-python",
   "name": "python",
   "nbconvert_exporter": "python",
   "pygments_lexer": "ipython3",
   "version": "3.10.11"
  }
 },
 "nbformat": 4,
 "nbformat_minor": 5
}
